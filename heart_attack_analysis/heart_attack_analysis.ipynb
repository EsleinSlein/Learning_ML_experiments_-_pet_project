{
 "cells": [
  {
   "cell_type": "markdown",
   "id": "93df48ae",
   "metadata": {},
   "source": [
    "# Описание данных и цель проекта\n"
   ]
  },
  {
   "cell_type": "markdown",
   "id": "d64ffcaf",
   "metadata": {},
   "source": [
    "**Цель данного проекта посмотреть как ведут себя модели классификации при нехватке данных. А также проверить возможность применения таких данных для анализа. Данные взяты с Kaggle https://www.kaggle.com/datasets/rashikrahmanpritom/heart-attack-analysis-prediction-dataset** "
   ]
  },
  {
   "cell_type": "markdown",
   "id": "57d11449",
   "metadata": {},
   "source": [
    "Age : Возраст пациента\n",
    "\n",
    "Sex : Пол пациента \n",
    "   - 0 = женщина\n",
    "   - 1 = мужчина\n",
    "\n",
    "cp : Тип боли в груди\n",
    "- Value 0: типичная стенокардия\n",
    "- Value 1: атипичная стенокардия\n",
    "- Value 2: боль не связанная со стенокардией\n",
    "- Value 3: бессимптомный \n",
    "\n",
    "trtbps : кровяное давление в состоянии покоя (в мм рт. ст.)\n",
    "\n",
    "chol: уровень холестерина в мг/дл определяется с помощью датчика ИМТ\n",
    "\n",
    "fbs: (уровень сахара в крови натощак > 120 мг/дл)\n",
    "- 1 = true\n",
    "- 0 = false\n",
    "\n",
    "restecg: результаты электрокардиографии в состоянии покоя\n",
    "- Value 0: нормальный\n",
    "- Value 1:наличие аномалии зубца ST-T (инверсии зубца T и/или подъем или понижение ST > 0,05 мВ)\n",
    "- Value 2: наличие вероятной или определенной гипертрофии левого желудочка по критериям Эстеса\n",
    "\n",
    "thalach: максимальная частота сердечных сокращений\n",
    "\n",
    "exang: стенокардия, вызванная физической нагрузкой\n",
    "- 1 = yes\n",
    "- 0 = no\n",
    "\n",
    "old peak: Депрессия ST, вызванная физической нагрузкой по сравнению с отдыхом\n",
    "\n",
    "slp: наклон сегмента ST пикового упражнения\n",
    "- 0 = откатывающийся\n",
    "- 1 = плоский\n",
    "- 2 = спускающийся по склону\n",
    "\n",
    "caa: количество крупных сосудов (0-3)\n",
    "\n",
    "thall : Талассеми́я — это наследственные заболевания крови, для которых характерно снижением выработки гемоглобина.\n",
    "- 0 = недействительный\n",
    "- 1 = исправленный дефект\n",
    "- 2 = нормальный\n",
    "- 3 = исправимый дефект\n",
    "\n",
    "output: диагностика заболеваний сердца (ангиографический статус заболевания\n",
    "- 0: < 50% сужжение диаметра. Меньше шансов заболеть сердечными заболеваниями\n",
    "- 1: > 50%  сужжение диаметра. Больше шансов заболеть сердечными заболеваниями"
   ]
  },
  {
   "cell_type": "markdown",
   "id": "63a70a22",
   "metadata": {},
   "source": [
    "# EDA"
   ]
  },
  {
   "cell_type": "code",
   "execution_count": 1,
   "id": "b2f73194",
   "metadata": {},
   "outputs": [],
   "source": [
    "#импортируем библиотеки\n",
    "import pandas as pd\n",
    "import numpy as np\n",
    "import os\n",
    "import warnings\n",
    "import matplotlib.pyplot as plt\n",
    "\n",
    "\n",
    "from sklearn.pipeline import make_pipeline\n",
    "from lightgbm import LGBMClassifier\n",
    "from catboost import CatBoostClassifier, Pool, cv\n",
    "from sklearn.linear_model import LogisticRegression\n",
    "from sklearn.ensemble import RandomForestClassifier\n",
    "from sklearn.model_selection import (\n",
    "    cross_val_score,\n",
    "    GridSearchCV,\n",
    "    train_test_split\n",
    ")\n",
    "from sklearn.metrics import f1_score, make_scorer\n",
    "\n",
    "\n",
    "warnings.filterwarnings('ignore')\n",
    "pd.set_option('display.max_column', None)\n",
    "\n",
    "RANDOM=42"
   ]
  },
  {
   "cell_type": "code",
   "execution_count": 2,
   "id": "aa4a098a",
   "metadata": {},
   "outputs": [],
   "source": [
    "#Читаем файл\n",
    "path = 'datasets/heart.csv'\n",
    "if os.path.exists(path):\n",
    "    data = pd.read_csv(path)\n",
    "else:\n",
    "    print('WRONG PATH')"
   ]
  },
  {
   "cell_type": "code",
   "execution_count": 3,
   "id": "1a9bb18e",
   "metadata": {
    "scrolled": false
   },
   "outputs": [
    {
     "data": {
      "text/html": [
       "<div>\n",
       "<style scoped>\n",
       "    .dataframe tbody tr th:only-of-type {\n",
       "        vertical-align: middle;\n",
       "    }\n",
       "\n",
       "    .dataframe tbody tr th {\n",
       "        vertical-align: top;\n",
       "    }\n",
       "\n",
       "    .dataframe thead th {\n",
       "        text-align: right;\n",
       "    }\n",
       "</style>\n",
       "<table border=\"1\" class=\"dataframe\">\n",
       "  <thead>\n",
       "    <tr style=\"text-align: right;\">\n",
       "      <th></th>\n",
       "      <th>age</th>\n",
       "      <th>sex</th>\n",
       "      <th>cp</th>\n",
       "      <th>trtbps</th>\n",
       "      <th>chol</th>\n",
       "      <th>fbs</th>\n",
       "      <th>restecg</th>\n",
       "      <th>thalachh</th>\n",
       "      <th>exng</th>\n",
       "      <th>oldpeak</th>\n",
       "      <th>slp</th>\n",
       "      <th>caa</th>\n",
       "      <th>thall</th>\n",
       "      <th>output</th>\n",
       "    </tr>\n",
       "  </thead>\n",
       "  <tbody>\n",
       "    <tr>\n",
       "      <th>0</th>\n",
       "      <td>63</td>\n",
       "      <td>1</td>\n",
       "      <td>3</td>\n",
       "      <td>145</td>\n",
       "      <td>233</td>\n",
       "      <td>1</td>\n",
       "      <td>0</td>\n",
       "      <td>150</td>\n",
       "      <td>0</td>\n",
       "      <td>2.3</td>\n",
       "      <td>0</td>\n",
       "      <td>0</td>\n",
       "      <td>1</td>\n",
       "      <td>1</td>\n",
       "    </tr>\n",
       "    <tr>\n",
       "      <th>1</th>\n",
       "      <td>37</td>\n",
       "      <td>1</td>\n",
       "      <td>2</td>\n",
       "      <td>130</td>\n",
       "      <td>250</td>\n",
       "      <td>0</td>\n",
       "      <td>1</td>\n",
       "      <td>187</td>\n",
       "      <td>0</td>\n",
       "      <td>3.5</td>\n",
       "      <td>0</td>\n",
       "      <td>0</td>\n",
       "      <td>2</td>\n",
       "      <td>1</td>\n",
       "    </tr>\n",
       "    <tr>\n",
       "      <th>2</th>\n",
       "      <td>41</td>\n",
       "      <td>0</td>\n",
       "      <td>1</td>\n",
       "      <td>130</td>\n",
       "      <td>204</td>\n",
       "      <td>0</td>\n",
       "      <td>0</td>\n",
       "      <td>172</td>\n",
       "      <td>0</td>\n",
       "      <td>1.4</td>\n",
       "      <td>2</td>\n",
       "      <td>0</td>\n",
       "      <td>2</td>\n",
       "      <td>1</td>\n",
       "    </tr>\n",
       "    <tr>\n",
       "      <th>3</th>\n",
       "      <td>56</td>\n",
       "      <td>1</td>\n",
       "      <td>1</td>\n",
       "      <td>120</td>\n",
       "      <td>236</td>\n",
       "      <td>0</td>\n",
       "      <td>1</td>\n",
       "      <td>178</td>\n",
       "      <td>0</td>\n",
       "      <td>0.8</td>\n",
       "      <td>2</td>\n",
       "      <td>0</td>\n",
       "      <td>2</td>\n",
       "      <td>1</td>\n",
       "    </tr>\n",
       "    <tr>\n",
       "      <th>4</th>\n",
       "      <td>57</td>\n",
       "      <td>0</td>\n",
       "      <td>0</td>\n",
       "      <td>120</td>\n",
       "      <td>354</td>\n",
       "      <td>0</td>\n",
       "      <td>1</td>\n",
       "      <td>163</td>\n",
       "      <td>1</td>\n",
       "      <td>0.6</td>\n",
       "      <td>2</td>\n",
       "      <td>0</td>\n",
       "      <td>2</td>\n",
       "      <td>1</td>\n",
       "    </tr>\n",
       "    <tr>\n",
       "      <th>...</th>\n",
       "      <td>...</td>\n",
       "      <td>...</td>\n",
       "      <td>...</td>\n",
       "      <td>...</td>\n",
       "      <td>...</td>\n",
       "      <td>...</td>\n",
       "      <td>...</td>\n",
       "      <td>...</td>\n",
       "      <td>...</td>\n",
       "      <td>...</td>\n",
       "      <td>...</td>\n",
       "      <td>...</td>\n",
       "      <td>...</td>\n",
       "      <td>...</td>\n",
       "    </tr>\n",
       "    <tr>\n",
       "      <th>298</th>\n",
       "      <td>57</td>\n",
       "      <td>0</td>\n",
       "      <td>0</td>\n",
       "      <td>140</td>\n",
       "      <td>241</td>\n",
       "      <td>0</td>\n",
       "      <td>1</td>\n",
       "      <td>123</td>\n",
       "      <td>1</td>\n",
       "      <td>0.2</td>\n",
       "      <td>1</td>\n",
       "      <td>0</td>\n",
       "      <td>3</td>\n",
       "      <td>0</td>\n",
       "    </tr>\n",
       "    <tr>\n",
       "      <th>299</th>\n",
       "      <td>45</td>\n",
       "      <td>1</td>\n",
       "      <td>3</td>\n",
       "      <td>110</td>\n",
       "      <td>264</td>\n",
       "      <td>0</td>\n",
       "      <td>1</td>\n",
       "      <td>132</td>\n",
       "      <td>0</td>\n",
       "      <td>1.2</td>\n",
       "      <td>1</td>\n",
       "      <td>0</td>\n",
       "      <td>3</td>\n",
       "      <td>0</td>\n",
       "    </tr>\n",
       "    <tr>\n",
       "      <th>300</th>\n",
       "      <td>68</td>\n",
       "      <td>1</td>\n",
       "      <td>0</td>\n",
       "      <td>144</td>\n",
       "      <td>193</td>\n",
       "      <td>1</td>\n",
       "      <td>1</td>\n",
       "      <td>141</td>\n",
       "      <td>0</td>\n",
       "      <td>3.4</td>\n",
       "      <td>1</td>\n",
       "      <td>2</td>\n",
       "      <td>3</td>\n",
       "      <td>0</td>\n",
       "    </tr>\n",
       "    <tr>\n",
       "      <th>301</th>\n",
       "      <td>57</td>\n",
       "      <td>1</td>\n",
       "      <td>0</td>\n",
       "      <td>130</td>\n",
       "      <td>131</td>\n",
       "      <td>0</td>\n",
       "      <td>1</td>\n",
       "      <td>115</td>\n",
       "      <td>1</td>\n",
       "      <td>1.2</td>\n",
       "      <td>1</td>\n",
       "      <td>1</td>\n",
       "      <td>3</td>\n",
       "      <td>0</td>\n",
       "    </tr>\n",
       "    <tr>\n",
       "      <th>302</th>\n",
       "      <td>57</td>\n",
       "      <td>0</td>\n",
       "      <td>1</td>\n",
       "      <td>130</td>\n",
       "      <td>236</td>\n",
       "      <td>0</td>\n",
       "      <td>0</td>\n",
       "      <td>174</td>\n",
       "      <td>0</td>\n",
       "      <td>0.0</td>\n",
       "      <td>1</td>\n",
       "      <td>1</td>\n",
       "      <td>2</td>\n",
       "      <td>0</td>\n",
       "    </tr>\n",
       "  </tbody>\n",
       "</table>\n",
       "<p>303 rows × 14 columns</p>\n",
       "</div>"
      ],
      "text/plain": [
       "     age  sex  cp  trtbps  chol  fbs  restecg  thalachh  exng  oldpeak  slp  \\\n",
       "0     63    1   3     145   233    1        0       150     0      2.3    0   \n",
       "1     37    1   2     130   250    0        1       187     0      3.5    0   \n",
       "2     41    0   1     130   204    0        0       172     0      1.4    2   \n",
       "3     56    1   1     120   236    0        1       178     0      0.8    2   \n",
       "4     57    0   0     120   354    0        1       163     1      0.6    2   \n",
       "..   ...  ...  ..     ...   ...  ...      ...       ...   ...      ...  ...   \n",
       "298   57    0   0     140   241    0        1       123     1      0.2    1   \n",
       "299   45    1   3     110   264    0        1       132     0      1.2    1   \n",
       "300   68    1   0     144   193    1        1       141     0      3.4    1   \n",
       "301   57    1   0     130   131    0        1       115     1      1.2    1   \n",
       "302   57    0   1     130   236    0        0       174     0      0.0    1   \n",
       "\n",
       "     caa  thall  output  \n",
       "0      0      1       1  \n",
       "1      0      2       1  \n",
       "2      0      2       1  \n",
       "3      0      2       1  \n",
       "4      0      2       1  \n",
       "..   ...    ...     ...  \n",
       "298    0      3       0  \n",
       "299    0      3       0  \n",
       "300    2      3       0  \n",
       "301    1      3       0  \n",
       "302    1      2       0  \n",
       "\n",
       "[303 rows x 14 columns]"
      ]
     },
     "execution_count": 3,
     "metadata": {},
     "output_type": "execute_result"
    }
   ],
   "source": [
    "# Смотрим данные\n",
    "data"
   ]
  },
  {
   "cell_type": "code",
   "execution_count": 4,
   "id": "7268e694",
   "metadata": {},
   "outputs": [
    {
     "name": "stdout",
     "output_type": "stream",
     "text": [
      "<class 'pandas.core.frame.DataFrame'>\n",
      "RangeIndex: 303 entries, 0 to 302\n",
      "Data columns (total 14 columns):\n",
      " #   Column    Non-Null Count  Dtype  \n",
      "---  ------    --------------  -----  \n",
      " 0   age       303 non-null    int64  \n",
      " 1   sex       303 non-null    int64  \n",
      " 2   cp        303 non-null    int64  \n",
      " 3   trtbps    303 non-null    int64  \n",
      " 4   chol      303 non-null    int64  \n",
      " 5   fbs       303 non-null    int64  \n",
      " 6   restecg   303 non-null    int64  \n",
      " 7   thalachh  303 non-null    int64  \n",
      " 8   exng      303 non-null    int64  \n",
      " 9   oldpeak   303 non-null    float64\n",
      " 10  slp       303 non-null    int64  \n",
      " 11  caa       303 non-null    int64  \n",
      " 12  thall     303 non-null    int64  \n",
      " 13  output    303 non-null    int64  \n",
      "dtypes: float64(1), int64(13)\n",
      "memory usage: 33.3 KB\n"
     ]
    },
    {
     "data": {
      "text/html": [
       "<div>\n",
       "<style scoped>\n",
       "    .dataframe tbody tr th:only-of-type {\n",
       "        vertical-align: middle;\n",
       "    }\n",
       "\n",
       "    .dataframe tbody tr th {\n",
       "        vertical-align: top;\n",
       "    }\n",
       "\n",
       "    .dataframe thead th {\n",
       "        text-align: right;\n",
       "    }\n",
       "</style>\n",
       "<table border=\"1\" class=\"dataframe\">\n",
       "  <thead>\n",
       "    <tr style=\"text-align: right;\">\n",
       "      <th></th>\n",
       "      <th>age</th>\n",
       "      <th>sex</th>\n",
       "      <th>cp</th>\n",
       "      <th>trtbps</th>\n",
       "      <th>chol</th>\n",
       "      <th>fbs</th>\n",
       "      <th>restecg</th>\n",
       "      <th>thalachh</th>\n",
       "      <th>exng</th>\n",
       "      <th>oldpeak</th>\n",
       "      <th>slp</th>\n",
       "      <th>caa</th>\n",
       "      <th>thall</th>\n",
       "      <th>output</th>\n",
       "    </tr>\n",
       "  </thead>\n",
       "  <tbody>\n",
       "    <tr>\n",
       "      <th>count</th>\n",
       "      <td>303.000000</td>\n",
       "      <td>303.000000</td>\n",
       "      <td>303.000000</td>\n",
       "      <td>303.000000</td>\n",
       "      <td>303.000000</td>\n",
       "      <td>303.000000</td>\n",
       "      <td>303.000000</td>\n",
       "      <td>303.000000</td>\n",
       "      <td>303.000000</td>\n",
       "      <td>303.000000</td>\n",
       "      <td>303.000000</td>\n",
       "      <td>303.000000</td>\n",
       "      <td>303.000000</td>\n",
       "      <td>303.000000</td>\n",
       "    </tr>\n",
       "    <tr>\n",
       "      <th>mean</th>\n",
       "      <td>54.366337</td>\n",
       "      <td>0.683168</td>\n",
       "      <td>0.966997</td>\n",
       "      <td>131.623762</td>\n",
       "      <td>246.264026</td>\n",
       "      <td>0.148515</td>\n",
       "      <td>0.528053</td>\n",
       "      <td>149.646865</td>\n",
       "      <td>0.326733</td>\n",
       "      <td>1.039604</td>\n",
       "      <td>1.399340</td>\n",
       "      <td>0.729373</td>\n",
       "      <td>2.313531</td>\n",
       "      <td>0.544554</td>\n",
       "    </tr>\n",
       "    <tr>\n",
       "      <th>std</th>\n",
       "      <td>9.082101</td>\n",
       "      <td>0.466011</td>\n",
       "      <td>1.032052</td>\n",
       "      <td>17.538143</td>\n",
       "      <td>51.830751</td>\n",
       "      <td>0.356198</td>\n",
       "      <td>0.525860</td>\n",
       "      <td>22.905161</td>\n",
       "      <td>0.469794</td>\n",
       "      <td>1.161075</td>\n",
       "      <td>0.616226</td>\n",
       "      <td>1.022606</td>\n",
       "      <td>0.612277</td>\n",
       "      <td>0.498835</td>\n",
       "    </tr>\n",
       "    <tr>\n",
       "      <th>min</th>\n",
       "      <td>29.000000</td>\n",
       "      <td>0.000000</td>\n",
       "      <td>0.000000</td>\n",
       "      <td>94.000000</td>\n",
       "      <td>126.000000</td>\n",
       "      <td>0.000000</td>\n",
       "      <td>0.000000</td>\n",
       "      <td>71.000000</td>\n",
       "      <td>0.000000</td>\n",
       "      <td>0.000000</td>\n",
       "      <td>0.000000</td>\n",
       "      <td>0.000000</td>\n",
       "      <td>0.000000</td>\n",
       "      <td>0.000000</td>\n",
       "    </tr>\n",
       "    <tr>\n",
       "      <th>25%</th>\n",
       "      <td>47.500000</td>\n",
       "      <td>0.000000</td>\n",
       "      <td>0.000000</td>\n",
       "      <td>120.000000</td>\n",
       "      <td>211.000000</td>\n",
       "      <td>0.000000</td>\n",
       "      <td>0.000000</td>\n",
       "      <td>133.500000</td>\n",
       "      <td>0.000000</td>\n",
       "      <td>0.000000</td>\n",
       "      <td>1.000000</td>\n",
       "      <td>0.000000</td>\n",
       "      <td>2.000000</td>\n",
       "      <td>0.000000</td>\n",
       "    </tr>\n",
       "    <tr>\n",
       "      <th>50%</th>\n",
       "      <td>55.000000</td>\n",
       "      <td>1.000000</td>\n",
       "      <td>1.000000</td>\n",
       "      <td>130.000000</td>\n",
       "      <td>240.000000</td>\n",
       "      <td>0.000000</td>\n",
       "      <td>1.000000</td>\n",
       "      <td>153.000000</td>\n",
       "      <td>0.000000</td>\n",
       "      <td>0.800000</td>\n",
       "      <td>1.000000</td>\n",
       "      <td>0.000000</td>\n",
       "      <td>2.000000</td>\n",
       "      <td>1.000000</td>\n",
       "    </tr>\n",
       "    <tr>\n",
       "      <th>75%</th>\n",
       "      <td>61.000000</td>\n",
       "      <td>1.000000</td>\n",
       "      <td>2.000000</td>\n",
       "      <td>140.000000</td>\n",
       "      <td>274.500000</td>\n",
       "      <td>0.000000</td>\n",
       "      <td>1.000000</td>\n",
       "      <td>166.000000</td>\n",
       "      <td>1.000000</td>\n",
       "      <td>1.600000</td>\n",
       "      <td>2.000000</td>\n",
       "      <td>1.000000</td>\n",
       "      <td>3.000000</td>\n",
       "      <td>1.000000</td>\n",
       "    </tr>\n",
       "    <tr>\n",
       "      <th>max</th>\n",
       "      <td>77.000000</td>\n",
       "      <td>1.000000</td>\n",
       "      <td>3.000000</td>\n",
       "      <td>200.000000</td>\n",
       "      <td>564.000000</td>\n",
       "      <td>1.000000</td>\n",
       "      <td>2.000000</td>\n",
       "      <td>202.000000</td>\n",
       "      <td>1.000000</td>\n",
       "      <td>6.200000</td>\n",
       "      <td>2.000000</td>\n",
       "      <td>4.000000</td>\n",
       "      <td>3.000000</td>\n",
       "      <td>1.000000</td>\n",
       "    </tr>\n",
       "  </tbody>\n",
       "</table>\n",
       "</div>"
      ],
      "text/plain": [
       "              age         sex          cp      trtbps        chol         fbs  \\\n",
       "count  303.000000  303.000000  303.000000  303.000000  303.000000  303.000000   \n",
       "mean    54.366337    0.683168    0.966997  131.623762  246.264026    0.148515   \n",
       "std      9.082101    0.466011    1.032052   17.538143   51.830751    0.356198   \n",
       "min     29.000000    0.000000    0.000000   94.000000  126.000000    0.000000   \n",
       "25%     47.500000    0.000000    0.000000  120.000000  211.000000    0.000000   \n",
       "50%     55.000000    1.000000    1.000000  130.000000  240.000000    0.000000   \n",
       "75%     61.000000    1.000000    2.000000  140.000000  274.500000    0.000000   \n",
       "max     77.000000    1.000000    3.000000  200.000000  564.000000    1.000000   \n",
       "\n",
       "          restecg    thalachh        exng     oldpeak         slp         caa  \\\n",
       "count  303.000000  303.000000  303.000000  303.000000  303.000000  303.000000   \n",
       "mean     0.528053  149.646865    0.326733    1.039604    1.399340    0.729373   \n",
       "std      0.525860   22.905161    0.469794    1.161075    0.616226    1.022606   \n",
       "min      0.000000   71.000000    0.000000    0.000000    0.000000    0.000000   \n",
       "25%      0.000000  133.500000    0.000000    0.000000    1.000000    0.000000   \n",
       "50%      1.000000  153.000000    0.000000    0.800000    1.000000    0.000000   \n",
       "75%      1.000000  166.000000    1.000000    1.600000    2.000000    1.000000   \n",
       "max      2.000000  202.000000    1.000000    6.200000    2.000000    4.000000   \n",
       "\n",
       "            thall      output  \n",
       "count  303.000000  303.000000  \n",
       "mean     2.313531    0.544554  \n",
       "std      0.612277    0.498835  \n",
       "min      0.000000    0.000000  \n",
       "25%      2.000000    0.000000  \n",
       "50%      2.000000    1.000000  \n",
       "75%      3.000000    1.000000  \n",
       "max      3.000000    1.000000  "
      ]
     },
     "execution_count": 4,
     "metadata": {},
     "output_type": "execute_result"
    }
   ],
   "source": [
    "# Описание данных\n",
    "data.info()\n",
    "data.describe()"
   ]
  },
  {
   "cell_type": "code",
   "execution_count": 5,
   "id": "4f333996",
   "metadata": {},
   "outputs": [
    {
     "data": {
      "image/png": "[encoded data removed]",
      "text/plain": [
       "<Figure size 1000x1000 with 16 Axes>"
      ]
     },
     "metadata": {},
     "output_type": "display_data"
    }
   ],
   "source": [
    "# Посмотрим распределение данных\n",
    "data.hist(figsize=(10,10));"
   ]
  },
  {
   "cell_type": "markdown",
   "id": "10ac84ef",
   "metadata": {},
   "source": [
    "**Вывод:** Пропущенных значений в данных нет. Типы данных соответсвуют требованиям."
   ]
  },
  {
   "cell_type": "markdown",
   "id": "5502655c",
   "metadata": {},
   "source": [
    "# Исследовательский анализ данных"
   ]
  },
  {
   "cell_type": "markdown",
   "id": "b1e3561c",
   "metadata": {},
   "source": [
    "**Посмотрим влияние возраста, пола и др. признаков на вероятность развития сердечных заболеваний. И на адекватность данных**"
   ]
  },
  {
   "cell_type": "code",
   "execution_count": 6,
   "id": "c2e4cd6d",
   "metadata": {
    "scrolled": true
   },
   "outputs": [
    {
     "data": {
      "image/png": "[encoded data removed]",
      "text/plain": [
       "<Figure size 640x480 with 1 Axes>"
      ]
     },
     "metadata": {},
     "output_type": "display_data"
    },
    {
     "data": {
      "image/png": "[encoded data removed]",
      "text/plain": [
       "<Figure size 640x480 with 1 Axes>"
      ]
     },
     "metadata": {},
     "output_type": "display_data"
    },
    {
     "data": {
      "image/png": "[encoded data removed]",
      "text/plain": [
       "<Figure size 640x480 with 1 Axes>"
      ]
     },
     "metadata": {},
     "output_type": "display_data"
    },
    {
     "data": {
      "image/png": "[encoded data removed]",
      "text/plain": [
       "<Figure size 640x480 with 1 Axes>"
      ]
     },
     "metadata": {},
     "output_type": "display_data"
    },
    {
     "data": {
      "image/png": "[encoded data removed]",
      "text/plain": [
       "<Figure size 640x480 with 1 Axes>"
      ]
     },
     "metadata": {},
     "output_type": "display_data"
    },
    {
     "data": {
      "image/png": "[encoded data removed]",
      "text/plain": [
       "<Figure size 640x480 with 1 Axes>"
      ]
     },
     "metadata": {},
     "output_type": "display_data"
    }
   ],
   "source": [
    "# Построим графики количества сердечных заболеваний по отобранным группам\n",
    "for i in ['age', 'sex', 'cp', 'fbs', 'restecg', 'thall']:\n",
    "        df = data.pivot_table(index=i, values='output', aggfunc=(['sum'])).reset_index()\n",
    "        df.columns = [i, 'output']\n",
    "        df.plot(kind='bar', x=i, y='output', title=f'Зависимость от {i}')\n",
    "        plt.ylabel('Количество заболеванй')\n",
    "        del df;"
   ]
  },
  {
   "cell_type": "markdown",
   "id": "93660fc3",
   "metadata": {},
   "source": [
    "**Вывод:** На графиках зависимостей вы видим странные занчения. Так например люди с сахарным диабетом имеют меньше шансов получить сердечное заболивание, что расходится с реальным положением дел. На других графиках тоже видны аномалии. "
   ]
  },
  {
   "cell_type": "code",
   "execution_count": 7,
   "id": "c824d945",
   "metadata": {},
   "outputs": [
    {
     "data": {
      "image/png": "[encoded data removed]",
      "text/plain": [
       "<Figure size 640x480 with 1 Axes>"
      ]
     },
     "metadata": {},
     "output_type": "display_data"
    }
   ],
   "source": [
    "# Посмотрим на баланс групп\n",
    "data.groupby('restecg')['output'].agg('count').plot(kind='bar');"
   ]
  },
  {
   "cell_type": "code",
   "execution_count": 8,
   "id": "bb7da57f",
   "metadata": {},
   "outputs": [
    {
     "data": {
      "image/png": "[encoded data removed]",
      "text/plain": [
       "<Figure size 640x480 with 1 Axes>"
      ]
     },
     "metadata": {},
     "output_type": "display_data"
    }
   ],
   "source": [
    "# Посмотрим на баланс групп\n",
    "data.groupby('fbs')['output'].agg('count').plot(kind='bar');"
   ]
  },
  {
   "cell_type": "markdown",
   "id": "97658cb0",
   "metadata": {},
   "source": [
    "**Вывод: К недостатку количества данных, добавляется дисбаланс по гркппам с категориальными значениями. Исследование таких данных бессмысленно** "
   ]
  },
  {
   "cell_type": "markdown",
   "id": "8feb560d",
   "metadata": {},
   "source": [
    "# Модели для испытаний"
   ]
  },
  {
   "cell_type": "markdown",
   "id": "18f60ef2",
   "metadata": {},
   "source": [
    "**Отбросим релевантность данных, и посмотрим как ведут себя разные классификаторы при нехватке данных.**"
   ]
  },
  {
   "cell_type": "code",
   "execution_count": 9,
   "id": "8df71978",
   "metadata": {},
   "outputs": [],
   "source": [
    "# Создадим метрику качества\n",
    "f1 = make_scorer(f1_score)"
   ]
  },
  {
   "cell_type": "code",
   "execution_count": 10,
   "id": "7268e866",
   "metadata": {},
   "outputs": [
    {
     "name": "stdout",
     "output_type": "stream",
     "text": [
      "(227, 13) (76, 13)\n"
     ]
    }
   ],
   "source": [
    "# Разобьем данные на обучающую и тестовую выборку\n",
    "features = data.drop('output', axis=1)\n",
    "target = data['output']\n",
    "train_f, test_f, train_t, test_t = train_test_split( features, target, test_size =0.25, random_state=RANDOM)\n",
    "print(train_f.shape, test_f.shape)"
   ]
  },
  {
   "cell_type": "code",
   "execution_count": 11,
   "id": "5ff8850b",
   "metadata": {},
   "outputs": [],
   "source": [
    "# Для СatBoost и LGBM обозначим категориальные данные\n",
    "categorical_features=['sex', 'cp', 'fbs', 'restecg', 'exng','slp', 'caa', 'thall']\n",
    "train_lgb = train_f.copy()\n",
    "test_lgb= test_f.copy()\n",
    "train_lgb[categorical_features] =train_lgb[categorical_features].astype('category')\n",
    "test_lgb[categorical_features] = test_lgb[categorical_features].astype('category')"
   ]
  },
  {
   "cell_type": "markdown",
   "id": "d69bbadf",
   "metadata": {},
   "source": [
    "## LogisticRegression"
   ]
  },
  {
   "cell_type": "code",
   "execution_count": 12,
   "id": "f314747f",
   "metadata": {},
   "outputs": [],
   "source": [
    "# Перебираемые гиперпараметры\n",
    "grid_space_lr = {\n",
    "    'max_iter': [100, 200, 500, 1000],                      \n",
    "    'solver': ['lbfgs', 'liblinear', 'sag', 'saga'],                                   \n",
    "}"
   ]
  },
  {
   "cell_type": "code",
   "execution_count": 13,
   "id": "c7c4b158",
   "metadata": {},
   "outputs": [],
   "source": [
    "# # обучающая модель\n",
    "# lr = LogisticRegression()\n",
    "\n",
    "\n",
    "# # обучим модель\n",
    "# grid_lr= GridSearchCV(lr, grid_space_lr,  verbose=1, cv=3, n_jobs=-1, scoring=f1)\n",
    "# grid_lr.fit(train_f, train_t) \n",
    "\n",
    "# print('Best hyperparameters are: '+str(grid_lr.best_params_))\n",
    "# print('Best score is: '+str(grid_lr.best_score_))"
   ]
  },
  {
   "cell_type": "markdown",
   "id": "10fd07ef",
   "metadata": {},
   "source": [
    "Fitting 3 folds for each of 16 candidates, totalling 48 fits\n",
    "\n",
    "Best hyperparameters are: {'max_iter': 100, 'solver': 'lbfgs'}\n",
    "    \n",
    "Best score is: 0.8368733274316472"
   ]
  },
  {
   "cell_type": "markdown",
   "id": "6cd8b4ba",
   "metadata": {},
   "source": [
    "## RandomForestClassifier"
   ]
  },
  {
   "cell_type": "code",
   "execution_count": 14,
   "id": "c9980f6a",
   "metadata": {},
   "outputs": [],
   "source": [
    "grid_space = {'max_depth': range (1,14, 2),\n",
    "              'min_samples_leaf': range (1,8),\n",
    "              'n_estimators':[100, 200, 300, 500] ,\n",
    "              'criterion':['gini', 'entropy'],\n",
    "              'max_features': ['sqrt', 'log2']}"
   ]
  },
  {
   "cell_type": "code",
   "execution_count": 15,
   "id": "c2082333",
   "metadata": {},
   "outputs": [],
   "source": [
    "# model_rf = RandomForestClassifier(random_state=RANDOM)\n",
    "\n",
    "# gs_rf = GridSearchCV(\n",
    "#     model_rf,\n",
    "#     grid_space,\n",
    "#     scoring=f1,\n",
    "#     n_jobs=-1,\n",
    "#     cv=3\n",
    "# )\n",
    "\n",
    "# gs_rf.fit(train_f, train_t)\n",
    "\n",
    "# print(f'best_score: {gs_rf.best_score_}')\n",
    "# print(f'best_params: {gs_rf.best_params_}')"
   ]
  },
  {
   "cell_type": "markdown",
   "id": "e8e6a0bb",
   "metadata": {},
   "source": [
    "best_score: 0.8533358713238792\n",
    "\n",
    "best_params: {'criterion': 'gini', 'max_depth': 5, 'max_features': 'sqrt', 'min_samples_leaf': 4, 'n_estimators': 200}"
   ]
  },
  {
   "cell_type": "markdown",
   "id": "75cc3e3d",
   "metadata": {},
   "source": [
    "## LGBMClassifier"
   ]
  },
  {
   "cell_type": "code",
   "execution_count": 16,
   "id": "02e6e695",
   "metadata": {},
   "outputs": [],
   "source": [
    "param_dist = {\"max_depth\": [5, 10, 15, 20],\n",
    "              \"learning_rate\" : [0.05, 0.1, 0.15, 0.3],\n",
    "              \"n_estimators\": [200, 300, 400, 500],\n",
    "}"
   ]
  },
  {
   "cell_type": "code",
   "execution_count": null,
   "id": "7e1351c3",
   "metadata": {
    "scrolled": true
   },
   "outputs": [],
   "source": [
    "# lgb = LGBMClassifier(random_state=RANDOM,categorical_feature=categorical_features)\n",
    "\n",
    "# grid_search = GridSearchCV(lgb, param_dist, cv = 3, \n",
    "#                                       verbose=10, n_jobs=-1, scoring=f1)\n",
    "# grid_search.fit(train_lgb, train_t) \n",
    "\n",
    "# print('Best hyperparameters are: '+str(grid_search.best_params_))\n",
    "# print('Best score is: '+str(grid_search.best_score_))"
   ]
  },
  {
   "cell_type": "markdown",
   "id": "754ccc9d",
   "metadata": {},
   "source": [
    "Fitting 3 folds for each of 192 candidates, totalling 576 fits\n",
    " - Best hyperparameters are: {'learning_rate': 0.05, 'max_depth': 5, 'n_estimators': 300, 'num_leaves': 32}\n",
    " - Best score is: 0.7654779519078821"
   ]
  },
  {
   "cell_type": "markdown",
   "id": "95318b31",
   "metadata": {},
   "source": [
    "## CatBoostClassifier"
   ]
  },
  {
   "cell_type": "code",
   "execution_count": 18,
   "id": "f3960b92",
   "metadata": {},
   "outputs": [],
   "source": [
    "train_data = Pool(data=train_f,\n",
    "                  label=train_t,\n",
    "                  cat_features=categorical_features\n",
    "                 )"
   ]
  },
  {
   "cell_type": "code",
   "execution_count": 19,
   "id": "90356d2a",
   "metadata": {},
   "outputs": [],
   "source": [
    "test_data = Pool(data=test_f,\n",
    "                  label=test_t,\n",
    "                  cat_features=categorical_features\n",
    "                 )"
   ]
  },
  {
   "cell_type": "code",
   "execution_count": 20,
   "id": "f3016732",
   "metadata": {},
   "outputs": [],
   "source": [
    "params = {'cat_features': categorical_features,\n",
    "              'eval_metric': 'TotalF1',\n",
    "          'loss_function': 'Logloss',\n",
    "              'learning_rate': 0.001,\n",
    "              'random_seed': RANDOM,\n",
    "              'verbose':200}"
   ]
  },
  {
   "cell_type": "code",
   "execution_count": 21,
   "id": "e0fce0f7",
   "metadata": {},
   "outputs": [
    {
     "name": "stdout",
     "output_type": "stream",
     "text": [
      "Training on fold [0/3]\n",
      "\n",
      "bestTest = 0.8833540888\n",
      "bestIteration = 9\n",
      "\n",
      "Training on fold [1/3]\n",
      "\n",
      "bestTest = 0.8536471148\n",
      "bestIteration = 8\n",
      "\n",
      "Training on fold [2/3]\n",
      "\n",
      "bestTest = 0.8091851852\n",
      "bestIteration = 11\n",
      "\n"
     ]
    }
   ],
   "source": [
    "cv_data = cv(\n",
    "    params = params,\n",
    "    pool = train_data,\n",
    "    fold_count=3,\n",
    "    shuffle=True,\n",
    "    stratified=True,\n",
    "    verbose=False,\n",
    "    early_stopping_rounds=20\n",
    ")"
   ]
  },
  {
   "cell_type": "code",
   "execution_count": 22,
   "id": "931aef5f",
   "metadata": {},
   "outputs": [
    {
     "name": "stdout",
     "output_type": "stream",
     "text": [
      "0.8444242539852246\n"
     ]
    }
   ],
   "source": [
    "best_value = np.max(cv_data['test-TotalF1-mean'])\n",
    "print(best_value)"
   ]
  },
  {
   "cell_type": "code",
   "execution_count": 28,
   "id": "6dadf392",
   "metadata": {},
   "outputs": [
    {
     "data": {
      "text/html": [
       "<div>\n",
       "<style scoped>\n",
       "    .dataframe tbody tr th:only-of-type {\n",
       "        vertical-align: middle;\n",
       "    }\n",
       "\n",
       "    .dataframe tbody tr th {\n",
       "        vertical-align: top;\n",
       "    }\n",
       "\n",
       "    .dataframe thead th {\n",
       "        text-align: right;\n",
       "    }\n",
       "</style>\n",
       "<table border=\"1\" class=\"dataframe\">\n",
       "  <thead>\n",
       "    <tr style=\"text-align: right;\">\n",
       "      <th></th>\n",
       "      <th>iterations</th>\n",
       "      <th>test-TotalF1-mean</th>\n",
       "      <th>test-TotalF1-std</th>\n",
       "      <th>train-TotalF1-mean</th>\n",
       "      <th>train-TotalF1-std</th>\n",
       "      <th>test-Logloss-mean</th>\n",
       "      <th>test-Logloss-std</th>\n",
       "      <th>train-Logloss-mean</th>\n",
       "      <th>train-Logloss-std</th>\n",
       "    </tr>\n",
       "  </thead>\n",
       "  <tbody>\n",
       "    <tr>\n",
       "      <th>8</th>\n",
       "      <td>8</td>\n",
       "      <td>0.844424</td>\n",
       "      <td>0.044152</td>\n",
       "      <td>0.895643</td>\n",
       "      <td>0.02768</td>\n",
       "      <td>0.687916</td>\n",
       "      <td>0.000329</td>\n",
       "      <td>0.687038</td>\n",
       "      <td>0.000837</td>\n",
       "    </tr>\n",
       "  </tbody>\n",
       "</table>\n",
       "</div>"
      ],
      "text/plain": [
       "   iterations  test-TotalF1-mean  test-TotalF1-std  train-TotalF1-mean  \\\n",
       "8           8           0.844424          0.044152            0.895643   \n",
       "\n",
       "   train-TotalF1-std  test-Logloss-mean  test-Logloss-std  train-Logloss-mean  \\\n",
       "8            0.02768           0.687916          0.000329            0.687038   \n",
       "\n",
       "   train-Logloss-std  \n",
       "8           0.000837  "
      ]
     },
     "execution_count": 28,
     "metadata": {},
     "output_type": "execute_result"
    }
   ],
   "source": [
    "cv_data[cv_data['test-TotalF1-mean'] == 0.8444242539852246]"
   ]
  },
  {
   "cell_type": "markdown",
   "id": "dc90e617",
   "metadata": {},
   "source": [
    "**Вывод: RandomForest и CatBoost дали лучшие результаты. С учетом среднего отклонения CatBoost имеет больше шансов выдать лучший результат, чем RandomForest. Поэтому будем использовать его.** "
   ]
  },
  {
   "cell_type": "markdown",
   "id": "f79fd061",
   "metadata": {
    "scrolled": true
   },
   "source": [
    "# Испытание на тестовой выборке"
   ]
  },
  {
   "cell_type": "code",
   "execution_count": 24,
   "id": "9d7bb045",
   "metadata": {
    "scrolled": true
   },
   "outputs": [
    {
     "name": "stdout",
     "output_type": "stream",
     "text": [
      "0:\tlearn: 0.8502203\ttotal: 14.2ms\tremaining: 14.2s\n",
      "200:\tlearn: 0.8808892\ttotal: 3.08s\tremaining: 12.3s\n",
      "400:\tlearn: 0.8895863\ttotal: 6.2s\tremaining: 9.26s\n",
      "600:\tlearn: 0.8984194\ttotal: 9.19s\tremaining: 6.1s\n",
      "800:\tlearn: 0.9027746\ttotal: 12.5s\tremaining: 3.11s\n",
      "999:\tlearn: 0.9071317\ttotal: 15.6s\tremaining: 0us\n"
     ]
    },
    {
     "data": {
      "text/plain": [
       "<catboost.core.CatBoostClassifier at 0x274e152a370>"
      ]
     },
     "execution_count": 24,
     "metadata": {},
     "output_type": "execute_result"
    }
   ],
   "source": [
    "model = CatBoostClassifier(**params)\n",
    "model.fit(train_data)"
   ]
  },
  {
   "cell_type": "code",
   "execution_count": 25,
   "id": "df9dd047",
   "metadata": {},
   "outputs": [
    {
     "data": {
      "text/plain": [
       "0.8837209302325582"
      ]
     },
     "execution_count": 25,
     "metadata": {},
     "output_type": "execute_result"
    }
   ],
   "source": [
    "f1_pred= model.predict(test_f)\n",
    "f1_score(test_t, f1_pred)"
   ]
  },
  {
   "cell_type": "code",
   "execution_count": 26,
   "id": "ee1022c2",
   "metadata": {},
   "outputs": [
    {
     "data": {
      "text/html": [
       "<style>#sk-container-id-1 {color: black;background-color: white;}#sk-container-id-1 pre{padding: 0;}#sk-container-id-1 div.sk-toggleable {background-color: white;}#sk-container-id-1 label.sk-toggleable__label {cursor: pointer;display: block;width: 100%;margin-bottom: 0;padding: 0.3em;box-sizing: border-box;text-align: center;}#sk-container-id-1 label.sk-toggleable__label-arrow:before {content: \"▸\";float: left;margin-right: 0.25em;color: #696969;}#sk-container-id-1 label.sk-toggleable__label-arrow:hover:before {color: black;}#sk-container-id-1 div.sk-estimator:hover label.sk-toggleable__label-arrow:before {color: black;}#sk-container-id-1 div.sk-toggleable__content {max-height: 0;max-width: 0;overflow: hidden;text-align: left;background-color: #f0f8ff;}#sk-container-id-1 div.sk-toggleable__content pre {margin: 0.2em;color: black;border-radius: 0.25em;background-color: #f0f8ff;}#sk-container-id-1 input.sk-toggleable__control:checked~div.sk-toggleable__content {max-height: 200px;max-width: 100%;overflow: auto;}#sk-container-id-1 input.sk-toggleable__control:checked~label.sk-toggleable__label-arrow:before {content: \"▾\";}#sk-container-id-1 div.sk-estimator input.sk-toggleable__control:checked~label.sk-toggleable__label {background-color: #d4ebff;}#sk-container-id-1 div.sk-label input.sk-toggleable__control:checked~label.sk-toggleable__label {background-color: #d4ebff;}#sk-container-id-1 input.sk-hidden--visually {border: 0;clip: rect(1px 1px 1px 1px);clip: rect(1px, 1px, 1px, 1px);height: 1px;margin: -1px;overflow: hidden;padding: 0;position: absolute;width: 1px;}#sk-container-id-1 div.sk-estimator {font-family: monospace;background-color: #f0f8ff;border: 1px dotted black;border-radius: 0.25em;box-sizing: border-box;margin-bottom: 0.5em;}#sk-container-id-1 div.sk-estimator:hover {background-color: #d4ebff;}#sk-container-id-1 div.sk-parallel-item::after {content: \"\";width: 100%;border-bottom: 1px solid gray;flex-grow: 1;}#sk-container-id-1 div.sk-label:hover label.sk-toggleable__label {background-color: #d4ebff;}#sk-container-id-1 div.sk-serial::before {content: \"\";position: absolute;border-left: 1px solid gray;box-sizing: border-box;top: 0;bottom: 0;left: 50%;z-index: 0;}#sk-container-id-1 div.sk-serial {display: flex;flex-direction: column;align-items: center;background-color: white;padding-right: 0.2em;padding-left: 0.2em;position: relative;}#sk-container-id-1 div.sk-item {position: relative;z-index: 1;}#sk-container-id-1 div.sk-parallel {display: flex;align-items: stretch;justify-content: center;background-color: white;position: relative;}#sk-container-id-1 div.sk-item::before, #sk-container-id-1 div.sk-parallel-item::before {content: \"\";position: absolute;border-left: 1px solid gray;box-sizing: border-box;top: 0;bottom: 0;left: 50%;z-index: -1;}#sk-container-id-1 div.sk-parallel-item {display: flex;flex-direction: column;z-index: 1;position: relative;background-color: white;}#sk-container-id-1 div.sk-parallel-item:first-child::after {align-self: flex-end;width: 50%;}#sk-container-id-1 div.sk-parallel-item:last-child::after {align-self: flex-start;width: 50%;}#sk-container-id-1 div.sk-parallel-item:only-child::after {width: 0;}#sk-container-id-1 div.sk-dashed-wrapped {border: 1px dashed gray;margin: 0 0.4em 0.5em 0.4em;box-sizing: border-box;padding-bottom: 0.4em;background-color: white;}#sk-container-id-1 div.sk-label label {font-family: monospace;font-weight: bold;display: inline-block;line-height: 1.2em;}#sk-container-id-1 div.sk-label-container {text-align: center;}#sk-container-id-1 div.sk-container {/* jupyter's `normalize.less` sets `[hidden] { display: none; }` but bootstrap.min.css set `[hidden] { display: none !important; }` so we also need the `!important` here to be able to override the default hidden behavior on the sphinx rendered scikit-learn.org. See: https://github.com/scikit-learn/scikit-learn/issues/21755 */display: inline-block !important;position: relative;}#sk-container-id-1 div.sk-text-repr-fallback {display: none;}</style><div id=\"sk-container-id-1\" class=\"sk-top-container\"><div class=\"sk-text-repr-fallback\"><pre>RandomForestClassifier(max_depth=5, min_samples_leaf=4, n_estimators=200,\n",
       "                       random_state=42)</pre><b>In a Jupyter environment, please rerun this cell to show the HTML representation or trust the notebook. <br />On GitHub, the HTML representation is unable to render, please try loading this page with nbviewer.org.</b></div><div class=\"sk-container\" hidden><div class=\"sk-item\"><div class=\"sk-estimator sk-toggleable\"><input class=\"sk-toggleable__control sk-hidden--visually\" id=\"sk-estimator-id-1\" type=\"checkbox\" checked><label for=\"sk-estimator-id-1\" class=\"sk-toggleable__label sk-toggleable__label-arrow\">RandomForestClassifier</label><div class=\"sk-toggleable__content\"><pre>RandomForestClassifier(max_depth=5, min_samples_leaf=4, n_estimators=200,\n",
       "                       random_state=42)</pre></div></div></div></div></div>"
      ],
      "text/plain": [
       "RandomForestClassifier(max_depth=5, min_samples_leaf=4, n_estimators=200,\n",
       "                       random_state=42)"
      ]
     },
     "execution_count": 26,
     "metadata": {},
     "output_type": "execute_result"
    }
   ],
   "source": [
    "model_rf = RandomForestClassifier(criterion='gini', max_depth=5, \n",
    "                                   max_features='sqrt', min_samples_leaf=4, \n",
    "                                   n_estimators=200, random_state=RANDOM)\n",
    "model_rf.fit(train_f, train_t)"
   ]
  },
  {
   "cell_type": "code",
   "execution_count": 27,
   "id": "e7e0b252",
   "metadata": {},
   "outputs": [
    {
     "data": {
      "text/plain": [
       "0.8604651162790697"
      ]
     },
     "execution_count": 27,
     "metadata": {},
     "output_type": "execute_result"
    }
   ],
   "source": [
    "f1_pred= model_rf.predict(test_f)\n",
    "f1_score(test_t, f1_pred)"
   ]
  },
  {
   "cell_type": "markdown",
   "id": "183fe0b6",
   "metadata": {},
   "source": [
    "**СatBoost на тестовой выборке получил f1 = 0,883. RandomForest выдал близкий результат f1=0,86. Наш вывод о вероятности получить более точную оценку на СatBoost подтвердился.**"
   ]
  },
  {
   "cell_type": "markdown",
   "id": "c7ed3bd2",
   "metadata": {},
   "source": [
    "# Итоги\n"
   ]
  },
  {
   "cell_type": "markdown",
   "id": "55490dfa",
   "metadata": {},
   "source": [
    "**В ходе исследования были сделаны следующие выводы:**\n",
    " - Анализ данных на маленьких датасетах не имеет смысла. Из-за нехватки данных, результаты исследований сильно искаженны.\n",
    " - Стандартные модели ML, такие, как RandomForest и LogisticRegression дают близкие результаты к  результатам сложных моделей на основе градиентного бустинга. Таких как Сatboost и LGBM. При этом на примере LGBM мы увидели что сложные модели не всегда дают лучший результат. Иногда лучше использовать стандартные методы. "
   ]
  },
  {
   "cell_type": "code",
   "execution_count": null,
   "id": "50dfdc59",
   "metadata": {},
   "outputs": [],
   "source": []
  }
 ],
 "metadata": {
  "kernelspec": {
   "display_name": "Python 3 (ipykernel)",
   "language": "python",
   "name": "python3"
  },
  "language_info": {
   "codemirror_mode": {
    "name": "ipython",
    "version": 3
   },
   "file_extension": ".py",
   "mimetype": "text/x-python",
   "name": "python",
   "nbconvert_exporter": "python",
   "pygments_lexer": "ipython3",
   "version": "3.9.13"
  },
  "toc": {
   "base_numbering": 1,
   "nav_menu": {},
   "number_sections": true,
   "sideBar": true,
   "skip_h1_title": false,
   "title_cell": "Table of Contents",
   "title_sidebar": "Contents",
   "toc_cell": false,
   "toc_position": {},
   "toc_section_display": true,
   "toc_window_display": true
  },
  "varInspector": {
   "cols": {
    "lenName": 16,
    "lenType": 16,
    "lenVar": 40
   },
   "kernels_config": {
    "python": {
     "delete_cmd_postfix": "",
     "delete_cmd_prefix": "del ",
     "library": "var_list.py",
     "varRefreshCmd": "print(var_dic_list())"
    },
    "r": {
     "delete_cmd_postfix": ") ",
     "delete_cmd_prefix": "rm(",
     "library": "var_list.r",
     "varRefreshCmd": "cat(var_dic_list()) "
    }
   },
   "types_to_exclude": [
    "module",
    "function",
    "builtin_function_or_method",
    "instance",
    "_Feature"
   ],
   "window_display": false
  }
 },
 "nbformat": 4,
 "nbformat_minor": 5
}
